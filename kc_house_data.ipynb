{
 "cells": [
  {
   "cell_type": "markdown",
   "id": "fdd3c563-f3db-4a85-b5e6-6f4ff9540c8f",
   "metadata": {},
   "source": [
    "Construccion de modelos de machine learning para el dataset \"kc house data\""
   ]
  },
  {
   "cell_type": "code",
   "execution_count": 187,
   "id": "8a79ce57",
   "metadata": {},
   "outputs": [],
   "source": [
    "# Importing libraries\n",
    "import pandas as pd\n",
    "import matplotlib.pyplot as plt\n",
    "from tabulate import tabulate\n",
    "import locale\n",
    "import seaborn as sns\n",
    "from sklearn.linear_model import LinearRegression\n",
    "from sklearn.metrics import mean_squared_error\n",
    "from sklearn.model_selection import train_test_split\n",
    "from sklearn.tree import DecisionTreeRegressor\n",
    "from sklearn.metrics import mean_absolute_error\n",
    "from sklearn.ensemble import RandomForestRegressor\n",
    "from sklearn.preprocessing import StandardScaler\n",
    "from sklearn.neighbors import KNeighborsRegressor\n",
    "from sklearn.preprocessing import OneHotEncoder\n",
    "import numpy as np"
   ]
  },
  {
   "cell_type": "code",
   "execution_count": 188,
   "id": "c97abf91",
   "metadata": {},
   "outputs": [
    {
     "data": {
      "text/plain": [
       "(21613, 21)"
      ]
     },
     "execution_count": 188,
     "metadata": {},
     "output_type": "execute_result"
    }
   ],
   "source": [
    "# read the data\n",
    "df = pd.read_csv(\"kc_house_data.csv\")\n",
    "df.shape"
   ]
  },
  {
   "cell_type": "markdown",
   "id": "44729fdc",
   "metadata": {},
   "source": [
    "El dataset consta de 21 columnas o características y abarca 21,613 registros en total. Cada registro representa una entrada única en el conjunto de datos, y nuestro análisis exploratorio y modelos de machine learning se enfocarán en extraer información valiosa de esta estructura de datos."
   ]
  },
  {
   "cell_type": "code",
   "execution_count": 189,
   "id": "7ce40703",
   "metadata": {},
   "outputs": [
    {
     "name": "stdout",
     "output_type": "stream",
     "text": [
      "Número de variables numéricas: 20\n",
      "Número de variables categóricas: 1\n",
      "Columnas numéricas: ['id', 'price', 'bedrooms', 'bathrooms', 'sqft_living', 'sqft_lot', 'floors', 'waterfront', 'view', 'condition', 'grade', 'sqft_above', 'sqft_basement', 'yr_built', 'yr_renovated', 'zipcode', 'lat', 'long', 'sqft_living15', 'sqft_lot15']\n",
      "Columnas categóricas: ['date']\n"
     ]
    }
   ],
   "source": [
    "numeric_variables = df.select_dtypes(include=['float64', 'int64']).columns\n",
    "categorical_variables = df.select_dtypes(include=['object']).columns\n",
    "\n",
    "num_numeric_variables = len(numeric_variables)\n",
    "num_categorical_variables = len(categorical_variables)\n",
    "\n",
    "print(\"Número de variables numéricas:\", num_numeric_variables)\n",
    "print(\"Número de variables categóricas:\", num_categorical_variables)\n",
    "\n",
    "numeric_columns = df.select_dtypes(include=['float64', 'int64']).columns.tolist()\n",
    "categorical_columns = df.select_dtypes(include=['object']).columns.tolist()\n",
    "\n",
    "print(\"Columnas numéricas:\", numeric_columns)\n",
    "print(\"Columnas categóricas:\", categorical_columns)"
   ]
  },
  {
   "cell_type": "code",
   "execution_count": 190,
   "id": "bc5a580c",
   "metadata": {},
   "outputs": [
    {
     "name": "stdout",
     "output_type": "stream",
     "text": [
      "Campos vacíos por columna:\n",
      "Series([], dtype: float64)\n",
      "\n",
      "Total de valores nulos: 0\n"
     ]
    }
   ],
   "source": [
    "# Verificar campos vacíos por columna\n",
    "empty_columns = df.columns[df.isnull().any()]\n",
    "empty_counts = df[empty_columns].isnull().sum()\n",
    "\n",
    "# Verificar valores nulos en total\n",
    "total_missing_values = df.isnull().sum().sum()\n",
    "\n",
    "print(\"Campos vacíos por columna:\")\n",
    "print(empty_counts)\n",
    "print(\"\\nTotal de valores nulos:\", total_missing_values)"
   ]
  },
  {
   "cell_type": "code",
   "execution_count": 191,
   "id": "2e941329",
   "metadata": {},
   "outputs": [
    {
     "name": "stdout",
     "output_type": "stream",
     "text": [
      "waterfront           2\n",
      "view                 5\n",
      "condition            5\n",
      "floors               6\n",
      "grade               12\n",
      "bedrooms            13\n",
      "bathrooms           30\n",
      "zipcode             70\n",
      "yr_renovated        70\n",
      "yr_built           116\n",
      "sqft_basement      306\n",
      "date               372\n",
      "long               752\n",
      "sqft_living15      777\n",
      "sqft_above         946\n",
      "sqft_living       1038\n",
      "price             4028\n",
      "lat               5034\n",
      "sqft_lot15        8689\n",
      "sqft_lot          9782\n",
      "id               21436\n",
      "dtype: int64\n"
     ]
    }
   ],
   "source": [
    "# Obtener la cantidad de valores únicos en cada columna y ordenar de menor a mayor\n",
    "unique_value_counts_sorted = df.nunique().sort_values()\n",
    "\n",
    "# Imprimir los resultados ordenados\n",
    "print(unique_value_counts_sorted)\n",
    "# "
   ]
  },
  {
   "cell_type": "markdown",
   "id": "219ff5a1",
   "metadata": {},
   "source": [
    "La mayoría de las casas tienen 3 o 4 dormitorios, estas son configuraciones comunes en las viviendas.\n",
    "\n",
    "Las casas con 1 o 2 dormitorios también son relativamente comunes, lo que podría indicar la presencia de apartamentos o propiedades más pequeñas en el conjunto de datos.\n",
    "\n",
    "La cantidad de casas con 5 o más dormitorios disminuye a medida que el número de dormitorios aumenta. \n",
    "\n",
    "Esto podría reflejar una disminución en la demanda o disponibilidad de casas con más dormitorios.\n",
    "\n",
    "La presencia de casas con 0 dormitorios podría ser un error en los datos o podría indicar propiedades no residenciales, como terrenos vacantes.\n",
    "\n",
    "La presencia de una casa con 33 dormitorios podría ser un error de entrada o un valor atípico."
   ]
  },
  {
   "cell_type": "code",
   "execution_count": 193,
   "id": "847d5594",
   "metadata": {},
   "outputs": [
    {
     "name": "stdout",
     "output_type": "stream",
     "text": [
      "| Tipo de Vista   |   Cantidad de Casas |\n",
      "|-----------------|---------------------|\n",
      "| Con Vista       |                 163 |\n",
      "| Sin Vista       |               21450 |\n"
     ]
    }
   ],
   "source": [
    "\n",
    "# analisis de la variable 'waterfront' (vista al agua)\n",
    "\n",
    "\n",
    "# Calcular la cantidad de casas con vista al agua y sin vista al agua\n",
    "waterfront_counts = df['waterfront'].value_counts()\n",
    "\n",
    "# Crear una lista de tuplas con los datos\n",
    "data = [(\"Con Vista\", waterfront_counts[1]), (\"Sin Vista\", waterfront_counts[0])]\n",
    "\n",
    "# Crear la tabla en formato Markdown\n",
    "table = tabulate(data, headers=[\"Tipo de Vista\", \"Cantidad de Casas\"], tablefmt=\"github\")\n",
    "\n",
    "# Imprimir la tabla\n",
    "print(table)\n"
   ]
  },
  {
   "cell_type": "code",
   "execution_count": 194,
   "id": "19e0c9aa",
   "metadata": {},
   "outputs": [
    {
     "name": "stdout",
     "output_type": "stream",
     "text": [
      "| Tipo de Vista   | Precio Promedio   |\n",
      "|-----------------|-------------------|\n",
      "| Sin Vista       | $531,563.60       |\n",
      "| Con Vista       | $1,661,876.02     |\n"
     ]
    }
   ],
   "source": [
    "\n",
    "# Establecer el locale para el formato de moneda\n",
    "locale.setlocale(locale.LC_ALL, 'en_US.UTF-8')\n",
    "\n",
    "# Calcular el precio promedio por tipo de vista al agua\n",
    "average_price_by_waterfront = df.groupby('waterfront')['price'].mean()\n",
    "\n",
    "# Crear una lista de tuplas con los datos\n",
    "data = [(\"Sin Vista\", locale.currency(average_price_by_waterfront[0], grouping=True)),\n",
    "        (\"Con Vista\", locale.currency(average_price_by_waterfront[1], grouping=True))]\n",
    "\n",
    "# Crear la tabla en formato Markdown\n",
    "table = tabulate(data, headers=[\"Tipo de Vista\", \"Precio Promedio\"], tablefmt=\"github\")\n",
    "\n",
    "# Imprimir la tabla\n",
    "print(table)\n",
    "\n"
   ]
  },
  {
   "cell_type": "markdown",
   "id": "e1bb0cda",
   "metadata": {},
   "source": [
    "### Analisis de la variable \"waterfront\"\n",
    "\n",
    "esta variable indica si la vivienda tiene vista al agua o no, \n",
    "\n",
    "podemos observar que es una variable categorica\n",
    "se puede observar que la mayoria de viviendas no tienen vista al agua"
   ]
  },
  {
   "cell_type": "markdown",
   "id": "0c555503",
   "metadata": {},
   "source": [
    "## Estructuramos los datos"
   ]
  },
  {
   "cell_type": "markdown",
   "id": "cafee63d",
   "metadata": {},
   "source": [
    "\n",
    "| Columna        | Descripción                                                                                   |\n",
    "|----------------|-----------------------------------------------------------------------------------------------|\n",
    "| id             | ID único para cada casa vendida                                                              |\n",
    "| date           | Fecha de la venta de la casa                                                                  |\n",
    "| price          | Precio de cada casa vendida                                                                   |\n",
    "| bedrooms       | Número de dormitorios                                                                         |\n",
    "| bathrooms      | Número de baños, donde .5 representa un cuarto con inodoro pero sin ducha                   |\n",
    "| sqft_living    | Metraje cuadrado del espacio interior del apartamento                                         |\n",
    "| sqft_lot       | Metraje cuadrado del terreno                                                                 |\n",
    "| floors         | Número de pisos                                                                               |\n",
    "| waterfront     | Variable que indica si el apartamento tiene vista al agua o no                     |\n",
    "| view           | Un índice del 0 al 4 que indica la calidad de la vista de la propiedad. 0 = Sin vista, 1 = Regular, 2 = Promedio, 3 = Buena, 4 = Excelente    |\n",
    "| condition      | Un índice del 1 al 5 sobre la condición del apartamento. 1 = Mal estado, 2 = Regular - Mal estado, 3 = Promedio, 4 = Buen estado, 5 = Muy buen estado |\n",
    "| grade          | Un índice del 1 al 13, donde 1-3 indica construcción y diseño insuficiente, 7 es promedio y 11-13 es alta calidad de construcción y diseño |\n",
    "| sqft_above     | Metraje cuadrado del espacio interior sobre el nivel del suelo                               |\n",
    "| sqft_basement  | Metraje cuadrado del espacio interior bajo el nivel del suelo                                 |\n",
    "| yr_built       | Año en que se construyó la casa                                                               |\n",
    "| yr_renovated   | Año de la última renovación de la casa                                                        |\n",
    "| zipcode        | Área del código postal en la que se encuentra la casa                                         |\n"
   ]
  },
  {
   "cell_type": "code",
   "execution_count": 195,
   "id": "2622af22",
   "metadata": {},
   "outputs": [],
   "source": [
    "#calculamos la edad de la casa al momento de ser vendida\n",
    "df[\"date\"] = pd.to_datetime(df[\"date\"])\n",
    "df[\"house_age\"] = df[\"date\"].dt.year - df[\"yr_built\"]\n"
   ]
  },
  {
   "cell_type": "code",
   "execution_count": 196,
   "id": "73843884",
   "metadata": {},
   "outputs": [],
   "source": [
    "#convertimos la columna grade a categorica\n",
    "def map_grade_to_category(grade):\n",
    "    if grade in range(1, 4):\n",
    "        return 'Construcción y Diseño Insuficiente'\n",
    "    elif grade == 7:\n",
    "        return 'Promedio'\n",
    "    elif grade in range(11, 14):\n",
    "        return 'Alta Calidad de Construcción y Diseño'\n",
    "    else:\n",
    "        return 'Otro'\n",
    "\n",
    "df['grade_category'] = df['grade'].apply(map_grade_to_category)"
   ]
  },
  {
   "cell_type": "code",
   "execution_count": null,
   "id": "e732c2df",
   "metadata": {},
   "outputs": [
    {
     "name": "stdout",
     "output_type": "stream",
     "text": [
      "[ 3  2  4  5  1  6  7  0  8  9 11 10 33]\n",
      "bedrooms\n",
      "3     9824\n",
      "4     6882\n",
      "2     2760\n",
      "5     1601\n",
      "6      272\n",
      "1      199\n",
      "7       38\n",
      "0       13\n",
      "8       13\n",
      "9        6\n",
      "10       3\n",
      "11       1\n",
      "33       1\n",
      "Name: count, dtype: int64\n"
     ]
    }
   ],
   "source": [
    "# detallando la variable bedrooms\n",
    "unique_bedrooms = df['bedrooms'].unique()\n",
    "print(unique_bedrooms)\n",
    "bedrooms_counts = df['bedrooms'].value_counts()\n",
    "print(bedrooms_counts)"
   ]
  },
  {
   "cell_type": "code",
   "execution_count": 199,
   "id": "57b0aae1",
   "metadata": {},
   "outputs": [],
   "source": [
    "#eliminamos los 0 dormitorios porque no serian una casa\n",
    "df= df[df[\"bedrooms\"]!= 0]\n",
    "df.reset_index(inplace=True)"
   ]
  },
  {
   "cell_type": "code",
   "execution_count": 197,
   "id": "cedd1bb3",
   "metadata": {},
   "outputs": [],
   "source": [
    "# Categorizar la variable \"bedrooms\"\n",
    "bins = [0, 2, 4, 6, float('inf')]\n",
    "labels = ['1-2 Dormitorios', '3-4 Dormitorios', '5-6 Dormitorios', '7 o más Dormitorios']\n",
    "df['bedroom_category'] = pd.cut(df['bedrooms'], bins=bins, labels=labels, right=False)\n"
   ]
  },
  {
   "cell_type": "code",
   "execution_count": 198,
   "id": "2d8fd105",
   "metadata": {},
   "outputs": [
    {
     "name": "stdout",
     "output_type": "stream",
     "text": [
      "['3-4 Dormitorios', '5-6 Dormitorios', '1-2 Dormitorios', '7 o más Dormitorios']\n",
      "Categories (4, object): ['1-2 Dormitorios' < '3-4 Dormitorios' < '5-6 Dormitorios' < '7 o más Dormitorios']\n",
      "bedroom_category\n",
      "3-4 Dormitorios        12584\n",
      "5-6 Dormitorios         8483\n",
      "7 o más Dormitorios      334\n",
      "1-2 Dormitorios          212\n",
      "Name: count, dtype: int64\n"
     ]
    }
   ],
   "source": [
    "# detallando la variable bedrooms\n",
    "unique_bedrooms = df['bedroom_category'].unique()\n",
    "print(unique_bedrooms)\n",
    "bedrooms_counts = df['bedroom_category'].value_counts()\n",
    "print(bedrooms_counts)"
   ]
  },
  {
   "cell_type": "code",
   "execution_count": 200,
   "id": "0d86a0c0",
   "metadata": {},
   "outputs": [],
   "source": [
    "# voy a escalar algunas variables numericas\n",
    "# Crear el objeto del escalador\n",
    "scaler = StandardScaler()\n",
    "# Definir las características numéricas que deseas escalar\n",
    "to_scaler = ['sqft_living', 'sqft_above','sqft_basement','house_age','bathrooms']\n",
    "# Aplicar el escalado a las características numéricas\n",
    "df[to_scaler] = scaler.fit_transform(df[to_scaler])"
   ]
  },
  {
   "cell_type": "code",
   "execution_count": 201,
   "id": "68f9652a",
   "metadata": {},
   "outputs": [
    {
     "name": "stdout",
     "output_type": "stream",
     "text": [
      "['view_1' 'view_2' 'view_3' 'view_4' 'waterfront_1' 'floors_1.5'\n",
      " 'floors_2.0' 'floors_2.5' 'floors_3.0' 'floors_3.5' 'condition_2'\n",
      " 'condition_3' 'condition_4' 'condition_5'\n",
      " 'grade_category_Construcción y Diseño Insuficiente' 'grade_category_Otro'\n",
      " 'grade_category_Promedio' 'bedroom_category_3-4 Dormitorios'\n",
      " 'bedroom_category_5-6 Dormitorios' 'bedroom_category_7 o más Dormitorios']\n"
     ]
    },
    {
     "name": "stderr",
     "output_type": "stream",
     "text": [
      "c:\\Users\\David\\.virtualenvs\\kc_house_data-eeEn6LAL\\Lib\\site-packages\\sklearn\\preprocessing\\_encoders.py:972: FutureWarning: `sparse` was renamed to `sparse_output` in version 1.2 and will be removed in 1.4. `sparse_output` is ignored unless you leave `sparse` to its default value.\n",
      "  warnings.warn(\n"
     ]
    }
   ],
   "source": [
    "\n",
    "# Crear el objeto del codificador one-hot\n",
    "encoder = OneHotEncoder(drop='first', sparse=False)\n",
    "\n",
    "# Definir la característica categórica que deseas codificar\n",
    "categorical_feature = ['view','waterfront','floors','condition','grade_category','bedroom_category']\n",
    "\n",
    "# Aplicar la codificación one-hot a la característica categórica\n",
    "encoded_features = encoder.fit_transform(df[categorical_feature])\n",
    "\n",
    "# Obtener los nombres de las características codificadas\n",
    "feature_names = encoder.get_feature_names_out(input_features=categorical_feature)\n",
    "\n",
    "# Crear un DataFrame con las columnas codificadas\n",
    "encoded_df = pd.DataFrame(encoded_features, columns=feature_names)\n",
    "\n",
    "# Agregar las nuevas columnas al DataFrame original y eliminar la columna original categórica\n",
    "df = pd.concat([df, encoded_df], axis=1)\n",
    "df.drop(categorical_feature, axis=1, inplace=True)\n",
    "print(feature_names)"
   ]
  },
  {
   "cell_type": "markdown",
   "id": "05d735a0",
   "metadata": {},
   "source": [
    "### se determino que la variale date almacena la venta de la case, mientras que las columnas yr_built fue el año de constrccion, entonces podemos decir que su resta es la cantidad de años que tenia la casa cuando fue vendida"
   ]
  },
  {
   "cell_type": "code",
   "execution_count": 202,
   "id": "1eaa8447",
   "metadata": {},
   "outputs": [],
   "source": [
    "# seleccionamos las columnas que deseamos usar\n",
    "selected = ['sqft_living', 'sqft_above','sqft_basement','house_age','bathrooms',\n",
    "'bedrooms','grade']\n",
    "features = np.concatenate((selected, feature_names))"
   ]
  },
  {
   "cell_type": "code",
   "execution_count": 203,
   "id": "57c782a5",
   "metadata": {},
   "outputs": [],
   "source": [
    "# dividimos los datos\n",
    "y = df[\"price\"]\n",
    "X = df[features]\n",
    "X_train, X_test, y_train, y_test = train_test_split(X, y, test_size=0.2, random_state=42)"
   ]
  },
  {
   "cell_type": "code",
   "execution_count": 204,
   "id": "e95ffd3e",
   "metadata": {},
   "outputs": [],
   "source": [
    "def train_and_evaluate_model(model, X_train, y_train, X_test, y_test, model_name):\n",
    "    model.fit(X_train, y_train)\n",
    "    val_predictions = model.predict(X_test)\n",
    "    val_mae = mean_absolute_error(val_predictions, y_test)\n",
    "    print(\" MAE para {}: {:,.0f}\".format(model_name, val_mae))"
   ]
  },
  {
   "cell_type": "code",
   "execution_count": 205,
   "id": "3fa1c8b9",
   "metadata": {},
   "outputs": [],
   "source": [
    "model_dtr = DecisionTreeRegressor(random_state=1)\n",
    "model_dtrmax = DecisionTreeRegressor(max_leaf_nodes=100, random_state=1)\n",
    "model_rf = RandomForestRegressor(random_state=1)\n",
    "model_knn = KNeighborsRegressor(n_neighbors=5)"
   ]
  },
  {
   "cell_type": "code",
   "execution_count": 206,
   "id": "9ef60d83",
   "metadata": {},
   "outputs": [
    {
     "name": "stdout",
     "output_type": "stream",
     "text": [
      " MAE para Árbol de Decisión: 176,608\n",
      " MAE para Árbol de Decisión (max_leaf_nodes=100): 137,168\n",
      " MAE para Random Forest: 130,224\n",
      " MAE para KNN: 137,557\n"
     ]
    }
   ],
   "source": [
    "train_and_evaluate_model(model_dtr, X_train, y_train, X_test, y_test, \"Árbol de Decisión\")\n",
    "train_and_evaluate_model(model_dtrmax, X_train, y_train, X_test, y_test, \"Árbol de Decisión (max_leaf_nodes=100)\")\n",
    "train_and_evaluate_model(model_rf, X_train, y_train, X_test, y_test, \"Random Forest\")\n",
    "train_and_evaluate_model(model_knn, X_train, y_train, X_test, y_test, \"KNN\")"
   ]
  }
 ],
 "metadata": {
  "kernelspec": {
   "display_name": "Python 3 (ipykernel)",
   "language": "python",
   "name": "python3"
  },
  "language_info": {
   "codemirror_mode": {
    "name": "ipython",
    "version": 3
   },
   "file_extension": ".py",
   "mimetype": "text/x-python",
   "name": "python",
   "nbconvert_exporter": "python",
   "pygments_lexer": "ipython3",
   "version": "3.11.4"
  }
 },
 "nbformat": 4,
 "nbformat_minor": 5
}
