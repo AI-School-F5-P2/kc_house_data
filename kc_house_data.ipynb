{
 "cells": [
  {
   "cell_type": "markdown",
   "id": "fdd3c563-f3db-4a85-b5e6-6f4ff9540c8f",
   "metadata": {},
   "source": [
    "Construccion de modelos de machine learning para el dataset \"kc house data\""
   ]
  },
  {
   "cell_type": "code",
   "execution_count": 94,
   "id": "8a79ce57",
   "metadata": {},
   "outputs": [],
   "source": [
    "# Importing libraries\n",
    "import pandas as pd\n",
    "import matplotlib.pyplot as plt\n",
    "from tabulate import tabulate\n",
    "import locale\n",
    "import seaborn as sns\n",
    "from sklearn.linear_model import LinearRegression\n",
    "from sklearn.metrics import mean_squared_error\n",
    "from sklearn.model_selection import train_test_split\n",
    "from sklearn.tree import DecisionTreeRegressor\n",
    "from sklearn.metrics import mean_absolute_error\n",
    "from sklearn.ensemble import RandomForestRegressor\n"
   ]
  },
  {
   "cell_type": "code",
   "execution_count": 95,
   "id": "c97abf91",
   "metadata": {},
   "outputs": [
    {
     "data": {
      "text/plain": [
       "(21613, 21)"
      ]
     },
     "execution_count": 95,
     "metadata": {},
     "output_type": "execute_result"
    }
   ],
   "source": [
    "# read the data\n",
    "df = pd.read_csv(\"kc_house_data.csv\")\n",
    "df.shape"
   ]
  },
  {
   "cell_type": "markdown",
   "id": "44729fdc",
   "metadata": {},
   "source": [
    "El dataset consta de 21 columnas o características y abarca 21,613 registros en total. Cada registro representa una entrada única en el conjunto de datos, y nuestro análisis exploratorio y modelos de machine learning se enfocarán en extraer información valiosa de esta estructura de datos."
   ]
  },
  {
   "cell_type": "code",
   "execution_count": 96,
   "id": "7deeb283",
   "metadata": {},
   "outputs": [
    {
     "name": "stdout",
     "output_type": "stream",
     "text": [
      "<class 'pandas.core.frame.DataFrame'>\n",
      "RangeIndex: 21613 entries, 0 to 21612\n",
      "Data columns (total 21 columns):\n",
      " #   Column         Non-Null Count  Dtype  \n",
      "---  ------         --------------  -----  \n",
      " 0   id             21613 non-null  int64  \n",
      " 1   date           21613 non-null  object \n",
      " 2   price          21613 non-null  float64\n",
      " 3   bedrooms       21613 non-null  int64  \n",
      " 4   bathrooms      21613 non-null  float64\n",
      " 5   sqft_living    21613 non-null  int64  \n",
      " 6   sqft_lot       21613 non-null  int64  \n",
      " 7   floors         21613 non-null  float64\n",
      " 8   waterfront     21613 non-null  int64  \n",
      " 9   view           21613 non-null  int64  \n",
      " 10  condition      21613 non-null  int64  \n",
      " 11  grade          21613 non-null  int64  \n",
      " 12  sqft_above     21613 non-null  int64  \n",
      " 13  sqft_basement  21613 non-null  int64  \n",
      " 14  yr_built       21613 non-null  int64  \n",
      " 15  yr_renovated   21613 non-null  int64  \n",
      " 16  zipcode        21613 non-null  int64  \n",
      " 17  lat            21613 non-null  float64\n",
      " 18  long           21613 non-null  float64\n",
      " 19  sqft_living15  21613 non-null  int64  \n",
      " 20  sqft_lot15     21613 non-null  int64  \n",
      "dtypes: float64(5), int64(15), object(1)\n",
      "memory usage: 3.5+ MB\n"
     ]
    }
   ],
   "source": [
    "df.info()"
   ]
  },
  {
   "cell_type": "code",
   "execution_count": 97,
   "id": "7ce40703",
   "metadata": {},
   "outputs": [
    {
     "name": "stdout",
     "output_type": "stream",
     "text": [
      "Número de variables numéricas: 20\n",
      "Número de variables categóricas: 1\n",
      "Columnas numéricas: ['id', 'price', 'bedrooms', 'bathrooms', 'sqft_living', 'sqft_lot', 'floors', 'waterfront', 'view', 'condition', 'grade', 'sqft_above', 'sqft_basement', 'yr_built', 'yr_renovated', 'zipcode', 'lat', 'long', 'sqft_living15', 'sqft_lot15']\n",
      "Columnas categóricas: ['date']\n"
     ]
    }
   ],
   "source": [
    "numeric_variables = df.select_dtypes(include=['float64', 'int64']).columns\n",
    "categorical_variables = df.select_dtypes(include=['object']).columns\n",
    "\n",
    "num_numeric_variables = len(numeric_variables)\n",
    "num_categorical_variables = len(categorical_variables)\n",
    "\n",
    "print(\"Número de variables numéricas:\", num_numeric_variables)\n",
    "print(\"Número de variables categóricas:\", num_categorical_variables)\n",
    "\n",
    "numeric_columns = df.select_dtypes(include=['float64', 'int64']).columns.tolist()\n",
    "categorical_columns = df.select_dtypes(include=['object']).columns.tolist()\n",
    "\n",
    "print(\"Columnas numéricas:\", numeric_columns)\n",
    "print(\"Columnas categóricas:\", categorical_columns)"
   ]
  },
  {
   "cell_type": "code",
   "execution_count": 98,
   "id": "bc5a580c",
   "metadata": {},
   "outputs": [
    {
     "name": "stdout",
     "output_type": "stream",
     "text": [
      "Campos vacíos por columna:\n",
      "Series([], dtype: float64)\n",
      "\n",
      "Total de valores nulos: 0\n"
     ]
    }
   ],
   "source": [
    "# Verificar campos vacíos por columna\n",
    "empty_columns = df.columns[df.isnull().any()]\n",
    "empty_counts = df[empty_columns].isnull().sum()\n",
    "\n",
    "# Verificar valores nulos en total\n",
    "total_missing_values = df.isnull().sum().sum()\n",
    "\n",
    "print(\"Campos vacíos por columna:\")\n",
    "print(empty_counts)\n",
    "print(\"\\nTotal de valores nulos:\", total_missing_values)"
   ]
  },
  {
   "cell_type": "code",
   "execution_count": 99,
   "id": "2e941329",
   "metadata": {},
   "outputs": [
    {
     "name": "stdout",
     "output_type": "stream",
     "text": [
      "waterfront           2\n",
      "view                 5\n",
      "condition            5\n",
      "floors               6\n",
      "grade               12\n",
      "bedrooms            13\n",
      "bathrooms           30\n",
      "zipcode             70\n",
      "yr_renovated        70\n",
      "yr_built           116\n",
      "sqft_basement      306\n",
      "date               372\n",
      "long               752\n",
      "sqft_living15      777\n",
      "sqft_above         946\n",
      "sqft_living       1038\n",
      "price             4028\n",
      "lat               5034\n",
      "sqft_lot15        8689\n",
      "sqft_lot          9782\n",
      "id               21436\n",
      "dtype: int64\n"
     ]
    }
   ],
   "source": [
    "# Obtener la cantidad de valores únicos en cada columna y ordenar de menor a mayor\n",
    "unique_value_counts_sorted = df.nunique().sort_values()\n",
    "\n",
    "# Imprimir los resultados ordenados\n",
    "print(unique_value_counts_sorted)\n",
    "# "
   ]
  },
  {
   "cell_type": "code",
   "execution_count": 100,
   "id": "847d5594",
   "metadata": {},
   "outputs": [
    {
     "name": "stdout",
     "output_type": "stream",
     "text": [
      "| Tipo de Vista   |   Cantidad de Casas |\n",
      "|-----------------|---------------------|\n",
      "| Con Vista       |                 163 |\n",
      "| Sin Vista       |               21450 |\n"
     ]
    }
   ],
   "source": [
    "\n",
    "# analisis de la variable 'waterfront' (vista al agua)\n",
    "\n",
    "\n",
    "# Calcular la cantidad de casas con vista al agua y sin vista al agua\n",
    "waterfront_counts = df['waterfront'].value_counts()\n",
    "\n",
    "# Crear una lista de tuplas con los datos\n",
    "data = [(\"Con Vista\", waterfront_counts[1]), (\"Sin Vista\", waterfront_counts[0])]\n",
    "\n",
    "# Crear la tabla en formato Markdown\n",
    "table = tabulate(data, headers=[\"Tipo de Vista\", \"Cantidad de Casas\"], tablefmt=\"github\")\n",
    "\n",
    "# Imprimir la tabla\n",
    "print(table)\n"
   ]
  },
  {
   "cell_type": "markdown",
   "id": "39ab70bb",
   "metadata": {},
   "source": []
  },
  {
   "cell_type": "code",
   "execution_count": 101,
   "id": "19e0c9aa",
   "metadata": {},
   "outputs": [
    {
     "name": "stdout",
     "output_type": "stream",
     "text": [
      "| Tipo de Vista   | Precio Promedio   |\n",
      "|-----------------|-------------------|\n",
      "| Sin Vista       | $531,563.60       |\n",
      "| Con Vista       | $1,661,876.02     |\n"
     ]
    }
   ],
   "source": [
    "\n",
    "# Establecer el locale para el formato de moneda\n",
    "locale.setlocale(locale.LC_ALL, 'en_US.UTF-8')\n",
    "\n",
    "# Calcular el precio promedio por tipo de vista al agua\n",
    "average_price_by_waterfront = df.groupby('waterfront')['price'].mean()\n",
    "\n",
    "# Crear una lista de tuplas con los datos\n",
    "data = [(\"Sin Vista\", locale.currency(average_price_by_waterfront[0], grouping=True)),\n",
    "        (\"Con Vista\", locale.currency(average_price_by_waterfront[1], grouping=True))]\n",
    "\n",
    "# Crear la tabla en formato Markdown\n",
    "table = tabulate(data, headers=[\"Tipo de Vista\", \"Precio Promedio\"], tablefmt=\"github\")\n",
    "\n",
    "# Imprimir la tabla\n",
    "print(table)\n",
    "\n"
   ]
  },
  {
   "cell_type": "code",
   "execution_count": 102,
   "id": "530201a2",
   "metadata": {},
   "outputs": [
    {
     "data": {
      "image/png": "[encoded data removed]",
      "text/plain": [
       "<Figure size 800x600 with 1 Axes>"
      ]
     },
     "metadata": {},
     "output_type": "display_data"
    }
   ],
   "source": [
    "\n",
    "# Configuración de estilo de Seaborn\n",
    "sns.set(style=\"whitegrid\")\n",
    "\n",
    "# Crear el gráfico de violín\n",
    "plt.figure(figsize=(8, 6))\n",
    "sns.violinplot(x='waterfront', y='price', data=df)\n",
    "plt.title('Distribución de Precios por Waterfront')\n",
    "plt.xlabel('Waterfront (Con Vista: 1, Sin Vista: 0)')\n",
    "plt.ylabel('Precio de las Viviendas')\n",
    "plt.xticks([0, 1], ['Sin Vista', 'Con Vista'])\n",
    "plt.show()"
   ]
  },
  {
   "cell_type": "markdown",
   "id": "e1bb0cda",
   "metadata": {},
   "source": [
    "### Analisis de la variable \"waterfront\"\n",
    "\n",
    "esta variable indica si la vivienda tiene vista al agua o no, \n",
    "\n",
    "podemos observar que es una variable categorica\n",
    "se puede observar que la mayoria de viviendas no tienen vista al agua"
   ]
  },
  {
   "cell_type": "markdown",
   "id": "0c555503",
   "metadata": {},
   "source": [
    "## Estructuramos los datos"
   ]
  },
  {
   "cell_type": "markdown",
   "id": "cafee63d",
   "metadata": {},
   "source": [
    "\n",
    "| Columna        | Descripción                                                                                   |\n",
    "|----------------|-----------------------------------------------------------------------------------------------|\n",
    "| id             | ID único para cada casa vendida                                                              |\n",
    "| date           | Fecha de la venta de la casa                                                                  |\n",
    "| price          | Precio de cada casa vendida                                                                   |\n",
    "| bedrooms       | Número de dormitorios                                                                         |\n",
    "| bathrooms      | Número de baños, donde .5 representa un cuarto con inodoro pero sin ducha                   |\n",
    "| sqft_living    | Metraje cuadrado del espacio interior del apartamento                                         |\n",
    "| sqft_lot       | Metraje cuadrado del terreno                                                                 |\n",
    "| floors         | Número de pisos                                                                               |\n",
    "| waterfront     | Variable que indica si el apartamento tiene vista al agua o no                     |\n",
    "| view           | Un índice del 0 al 4 que indica la calidad de la vista de la propiedad. 0 = Sin vista, 1 = Regular, 2 = Promedio, 3 = Buena, 4 = Excelente    |\n",
    "| condition      | Un índice del 1 al 5 sobre la condición del apartamento. 1 = Mal estado, 2 = Regular - Mal estado, 3 = Promedio, 4 = Buen estado, 5 = Muy buen estado |\n",
    "| grade          | Un índice del 1 al 13, donde 1-3 indica construcción y diseño insuficiente, 7 es promedio y 11-13 es alta calidad de construcción y diseño |\n",
    "| sqft_above     | Metraje cuadrado del espacio interior sobre el nivel del suelo                               |\n",
    "| sqft_basement  | Metraje cuadrado del espacio interior bajo el nivel del suelo                                 |\n",
    "| yr_built       | Año en que se construyó la casa                                                               |\n",
    "| yr_renovated   | Año de la última renovación de la casa                                                        |\n",
    "| zipcode        | Área del código postal en la que se encuentra la casa                                         |\n"
   ]
  },
  {
   "cell_type": "code",
   "execution_count": 103,
   "id": "1eaa8447",
   "metadata": {},
   "outputs": [],
   "source": [
    "y = df[\"price\"]\n",
    "features = ['sqft_living', 'bedrooms', 'bathrooms', 'floors', 'waterfront', 'view', 'grade']\n",
    "X = df[features]\n",
    "# dividimos los datos\n",
    "X_train, X_test, y_train, y_test = train_test_split(X, y, test_size=0.2, random_state=42)"
   ]
  },
  {
   "cell_type": "code",
   "execution_count": 104,
   "id": "165467d8",
   "metadata": {},
   "outputs": [
    {
     "name": "stdout",
     "output_type": "stream",
     "text": [
      " MAE arbol de decision: 185,193\n"
     ]
    }
   ],
   "source": [
    "# creamos el modelo\n",
    "model_dtr = DecisionTreeRegressor(random_state=1)\n",
    "# entrenamos el model\n",
    "model_dtr.fit(X_train, y_train)\n",
    "# calculamos el mae\n",
    "val_predictions = model_dtr.predict(X_test)\n",
    "val_mae = mean_absolute_error(val_predictions, y_test)\n",
    "print(\" MAE arbol de decision: {:,.0f}\".format(val_mae))"
   ]
  },
  {
   "cell_type": "code",
   "execution_count": 105,
   "id": "126477bf",
   "metadata": {},
   "outputs": [
    {
     "name": "stdout",
     "output_type": "stream",
     "text": [
      " MAE para arbol de decisioncambiando max_leaf_nodes = 100: 153,083\n"
     ]
    }
   ],
   "source": [
    "model_dtr = DecisionTreeRegressor(max_leaf_nodes=100, random_state=1)\n",
    "model_dtr.fit(X_train, y_train)\n",
    "val_predictions = model_dtr.predict(X_test)\n",
    "val_mae = mean_absolute_error(val_predictions, y_test)\n",
    "print(\" MAE para arbol de decisioncambiando max_leaf_nodes = 100: {:,.0f}\".format(val_mae))"
   ]
  }
 ],
 "metadata": {
  "kernelspec": {
   "display_name": "Python 3 (ipykernel)",
   "language": "python",
   "name": "python3"
  },
  "language_info": {
   "codemirror_mode": {
    "name": "ipython",
    "version": 3
   },
   "file_extension": ".py",
   "mimetype": "text/x-python",
   "name": "python",
   "nbconvert_exporter": "python",
   "pygments_lexer": "ipython3",
   "version": "3.11.4"
  }
 },
 "nbformat": 4,
 "nbformat_minor": 5
}
